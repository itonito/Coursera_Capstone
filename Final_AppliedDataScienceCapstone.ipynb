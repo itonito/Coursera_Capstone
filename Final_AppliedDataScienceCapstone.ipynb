{
  "nbformat": 4,
  "nbformat_minor": 0,
  "metadata": {
    "colab": {
      "name": "Final_AppliedDataScienceCapstone.ipynb",
      "version": "0.3.2",
      "provenance": [],
      "collapsed_sections": [],
      "include_colab_link": true
    },
    "kernelspec": {
      "name": "python3",
      "display_name": "Python 3"
    }
  },
  "cells": [
    {
      "cell_type": "markdown",
      "metadata": {
        "id": "view-in-github",
        "colab_type": "text"
      },
      "source": [
        "<a href=\"https://colab.research.google.com/github/itonito/Coursera_Capstone/blob/master/Final_AppliedDataScienceCapstone.ipynb\" target=\"_parent\"><img src=\"https://colab.research.google.com/assets/colab-badge.svg\" alt=\"Open In Colab\"/></a>"
      ]
    },
    {
      "metadata": {
        "id": "AjvWbWC7ctKN",
        "colab_type": "code",
        "outputId": "ec64463b-ce8e-4ffa-eca3-a4d083f4c2f2",
        "colab": {
          "base_uri": "https://localhost:8080/",
          "height": 51
        }
      },
      "cell_type": "code",
      "source": [
        "CLIENT_ID = api_key = getpass.getpass(\"Client ID: \") \n",
        "CLIENT_SECRET = getpass.getpass(\"Client Secret: \") "
      ],
      "execution_count": 34,
      "outputs": [
        {
          "output_type": "stream",
          "text": [
            "Client ID: ··········\n",
            "Client Secret: ··········\n"
          ],
          "name": "stdout"
        }
      ]
    },
    {
      "metadata": {
        "id": "iywQ2sfRSzDY",
        "colab_type": "code",
        "colab": {}
      },
      "cell_type": "code",
      "source": [
        "import pandas as pd\n",
        "import numpy as np\n",
        "import getpass\n",
        "import requests \n",
        "import random\n",
        "import folium\n",
        "import matplotlib.pyplot as plt\n",
        "\n",
        "from IPython.display import Image \n",
        "from IPython.core.display import HTML \n",
        "from pandas.io.json import json_normalize\n",
        "from urllib import request\n",
        "from folium.plugins import HeatMap"
      ],
      "execution_count": 0,
      "outputs": []
    },
    {
      "metadata": {
        "id": "qs9ihgxP6iEy",
        "colab_type": "code",
        "colab": {}
      },
      "cell_type": "code",
      "source": [
        "ll_df = pd.read_csv('http://cocl.us/Geospatial_data')"
      ],
      "execution_count": 0,
      "outputs": []
    },
    {
      "metadata": {
        "id": "1XsRtmaiopWP",
        "colab_type": "code",
        "colab": {}
      },
      "cell_type": "code",
      "source": [
        "def load_traffic_data():\n",
        "  #url\n",
        "  url = \"https://www.toronto.ca/ext/open_data/catalog/data_set_files/2015%20Subway%20Platform%20Usage%20Open%20Data%20Toronto.xlsx\"\n",
        "  traffic_df = pd.read_excel(url,header=3,  index_col=0, usecols=[0,1,2,3,4])\n",
        "  return traffic_df.dropna()\n"
      ],
      "execution_count": 0,
      "outputs": []
    },
    {
      "metadata": {
        "id": "FDhXw2ZPqUaW",
        "colab_type": "code",
        "colab": {}
      },
      "cell_type": "code",
      "source": [
        "subway_traffic_df = load_traffic_data()\n",
        "subway_traffic_df.columns = ['Station', 'To', 'From', 'Totals']\n",
        "subway_traffic_df['Station'] = subway_traffic_df['Station'].str.replace(r\"\\(.*\\)\",\"\")\n",
        "subway_traffic_df = subway_traffic_df.astype({\"To\": int, \"From\": int, \"Totals\": int})\n",
        "subway_traffic_df.head()\n",
        "sum_df = subway_traffic_df.groupby(\"Station\", as_index=False)['Totals'].sum()"
      ],
      "execution_count": 0,
      "outputs": []
    },
    {
      "metadata": {
        "id": "1nBJZySgzBtl",
        "colab_type": "code",
        "colab": {}
      },
      "cell_type": "code",
      "source": [
        "def load_geolocation(url):\n",
        "  # read csv\n",
        "  geo_df = pd.read_csv(url, names = [\"Latitude\", \"Longitude\", \"Station\"])\n",
        "  return geo_df.dropna()"
      ],
      "execution_count": 0,
      "outputs": []
    },
    {
      "metadata": {
        "id": "-5UT1grn4PMw",
        "colab_type": "code",
        "colab": {}
      },
      "cell_type": "code",
      "source": [
        "bloor_df = load_geolocation(\"http://scruss.com/wordpress/wp-content/bloor-danforth-NAD83.csv\")\n",
        "younge_df = load_geolocation(\"http://scruss.com/wordpress/wp-content/yonge-university-spadina-NAD83.csv\")\n",
        "sheppard_df = load_geolocation(\"http://scruss.com/wordpress/wp-content/sheppard-yonge-NAD83.csv\")\n",
        "scarborough_df = load_geolocation(\"http://scruss.com/wordpress/wp-content/srt-NAD83.csv\")\n",
        "locations_df = pd.concat([bloor_df, younge_df,sheppard_df,scarborough_df]).reset_index(drop=True)"
      ],
      "execution_count": 0,
      "outputs": []
    },
    {
      "metadata": {
        "id": "Rt7iWJje58oF",
        "colab_type": "code",
        "colab": {}
      },
      "cell_type": "code",
      "source": [
        "traffic_n_geo = pd.merge(locations_df, sum_df, on='Station')\n",
        "traffic_n_geo = traffic_n_geo.astype({\"Totals\": int})\n",
        "stations_traffic_df = traffic_n_geo"
      ],
      "execution_count": 0,
      "outputs": []
    },
    {
      "metadata": {
        "id": "CKXrg4qsy7Bq",
        "colab_type": "code",
        "colab": {}
      },
      "cell_type": "code",
      "source": [
        "def num_stores(LON, LAT, CATEGORY, CLIENT_ID, CLIENT_SECRET):\n",
        "    VERSION = '20180604'\n",
        "    LIMIT = 50\n",
        "    search_query = ''\n",
        "    radius = 500\n",
        "    url = 'https://api.foursquare.com/v2/venues/search?client_id={}&client_secret={}&ll={},{}&v={}&query={}&radius={}&limit={}&categoryId={}'.format(CLIENT_ID, CLIENT_SECRET, LAT, LON, VERSION, search_query, radius, LIMIT, CATEGORY)\n",
        "    results = requests.get(url).json()\n",
        "    return len(results['response']['venues'])"
      ],
      "execution_count": 0,
      "outputs": []
    },
    {
      "metadata": {
        "id": "lKO0i3G0zEVf",
        "colab_type": "code",
        "colab": {}
      },
      "cell_type": "code",
      "source": [
        "# iterate through all rows in stations_traffic_df and add the number of stores by running num_stores()\n",
        "num_store_list = []\n",
        "for i, row in stations_traffic_df.iterrows():\n",
        "      latx = stations_traffic_df.at[i,'Latitude']\n",
        "      lonx = stations_traffic_df.at[i,'Longitude'] \n",
        "      stores = num_stores(lonx, latx, '4bf58dd8d48988d103951735', CLIENT_ID, CLIENT_SECRET)\n",
        "      num_store_list.append(stores)\n",
        "stations_traffic_df['Stores'] = num_store_list"
      ],
      "execution_count": 0,
      "outputs": []
    },
    {
      "metadata": {
        "id": "hA7E53ZfxDEe",
        "colab_type": "code",
        "colab": {}
      },
      "cell_type": "code",
      "source": [
        "ratio_df = stations_traffic_df.copy()\n",
        "ratio_df['Totals'] = ratio_df['Totals'] / ratio_df['Totals'].max()\n",
        "ratio_df['Stores'] = ratio_df['Stores'] / ratio_df['Stores'].max()"
      ],
      "execution_count": 0,
      "outputs": []
    },
    {
      "metadata": {
        "id": "MzfPTCBmxEUn",
        "colab_type": "code",
        "colab": {}
      },
      "cell_type": "code",
      "source": [
        "np.set_printoptions(precision=10, suppress=True)\n",
        "\n",
        "a_traffic  = np.array\n",
        "a_traffic = ratio_df[['Latitude', 'Longitude', 'Totals']].values\n",
        "\n",
        "a_stores  = np.array\n",
        "a_stores = ratio_df[['Latitude', 'Longitude', 'Stores']].values"
      ],
      "execution_count": 0,
      "outputs": []
    },
    {
      "metadata": {
        "id": "TycvEZFyyK3n",
        "colab_type": "code",
        "outputId": "29a19032-5947-467d-bfae-132bc0851e46",
        "colab": {
          "base_uri": "https://localhost:8080/",
          "height": 768
        }
      },
      "cell_type": "code",
      "source": [
        "traffic_map = folium.Map(location=[43.703908, -79.384293], zoom_start=12)\n",
        "traffic_map.add_child(HeatMap(a_traffic,  max_val=0.01))\n",
        "folium.Marker([43.781490, -79.415673], popup='Finch', icon=folium.Icon(color='blue')).add_to(traffic_map)\n",
        "folium.Marker([43.638020, -79.536388], popup='Kipling', icon=folium.Icon(color='blue')).add_to(traffic_map)\n",
        "folium.Marker([43.750054, -79.462343], popup='Downsview', icon=folium.Icon(color='blue')).add_to(traffic_map)\n",
        "folium.Marker([43.775565, -79.346936], popup='Don Mills', icon=folium.Icon(color='blue')).add_to(traffic_map)\n",
        "folium.Marker([43.706646, -79.399158], popup='Eglinton', icon=folium.Icon(color='blue')).add_to(traffic_map)\n",
        "traffic_map"
      ],
      "execution_count": 46,
      "outputs": [
        {
          "output_type": "execute_result",
          "data": {
            "text/html": [
              "<div style=\"width:100%;\"><div style=\"position:relative;width:100%;height:0;padding-bottom:60%;\"><iframe src=\"data:text/html;charset=utf-8;base64,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\" style=\"position:absolute;width:100%;height:100%;left:0;top:0;border:none !important;\" allowfullscreen webkitallowfullscreen mozallowfullscreen></iframe></div></div>"
            ],
            "text/plain": [
              "<folium.folium.Map at 0x7f85e3714390>"
            ]
          },
          "metadata": {
            "tags": []
          },
          "execution_count": 46
        }
      ]
    },
    {
      "metadata": {
        "id": "Tn1s3Xfvahfk",
        "colab_type": "code",
        "outputId": "ce3808a4-e2f9-4d59-d18f-b5699688df60",
        "colab": {
          "base_uri": "https://localhost:8080/",
          "height": 768
        }
      },
      "cell_type": "code",
      "source": [
        "store_map = folium.Map(location=[43.703908, -79.384293], zoom_start=12)\n",
        "store_map.add_child(HeatMap(a_stores,  max_val=0.01))"
      ],
      "execution_count": 47,
      "outputs": [
        {
          "output_type": "execute_result",
          "data": {
            "text/html": [
              "<div style=\"width:100%;\"><div style=\"position:relative;width:100%;height:0;padding-bottom:60%;\"><iframe src=\"data:text/html;charset=utf-8;base64,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\" style=\"position:absolute;width:100%;height:100%;left:0;top:0;border:none !important;\" allowfullscreen webkitallowfullscreen mozallowfullscreen></iframe></div></div>"
            ],
            "text/plain": [
              "<folium.folium.Map at 0x7f85e3743048>"
            ]
          },
          "metadata": {
            "tags": []
          },
          "execution_count": 47
        }
      ]
    },
    {
      "metadata": {
        "id": "d-2i0niC0Kij",
        "colab_type": "code",
        "outputId": "2f75b043-a66a-4170-84dc-c2eaf9f00dbb",
        "colab": {
          "base_uri": "https://localhost:8080/",
          "height": 376
        }
      },
      "cell_type": "code",
      "source": [
        "y  = stations_traffic_df['Stores'].tolist()\n",
        "x  = stations_traffic_df['Totals'].tolist()\n",
        "\n",
        "plt.scatter(x, y, alpha=0.5)\n",
        "plt.title(\"Ridership vs Stores\")\n",
        "plt.xlabel(\"Riderhip\")\n",
        "plt.ylabel(\"Stores\")\n",
        "plt.show()"
      ],
      "execution_count": 48,
      "outputs": [
        {
          "output_type": "display_data",
          "data": {
            "image/png": "[encoded data removed]",
            "text/plain": [
              "<Figure size 576x396 with 1 Axes>"
            ]
          },
          "metadata": {
            "tags": []
          }
        }
      ]
    },
    {
      "metadata": {
        "id": "JXXMc0jg3xpQ",
        "colab_type": "code",
        "outputId": "d17043c5-8acb-45bb-951d-7e80762c48db",
        "colab": {
          "base_uri": "https://localhost:8080/",
          "height": 376
        }
      },
      "cell_type": "code",
      "source": [
        "y  = non_zero_stores['Stores'].tolist()\n",
        "x  = non_zero_stores['Totals'].tolist()\n",
        "\n",
        "plt.scatter(x, y, alpha=0.5)\n",
        "plt.title(\"Ridership vs Stores\")\n",
        "plt.xlabel(\"Riderhip\")\n",
        "plt.ylabel(\"Stores\")\n",
        "plt.show()"
      ],
      "execution_count": 50,
      "outputs": [
        {
          "output_type": "display_data",
          "data": {
            "image/png": "[encoded data removed]",
            "text/plain": [
              "<Figure size 576x396 with 1 Axes>"
            ]
          },
          "metadata": {
            "tags": []
          }
        }
      ]
    },
    {
      "metadata": {
        "id": "9Rchlhgmku9s",
        "colab_type": "code",
        "outputId": "1d7f936c-57eb-412d-d118-a0c5c4df359e",
        "colab": {
          "base_uri": "https://localhost:8080/",
          "height": 204
        }
      },
      "cell_type": "code",
      "source": [
        "non_zero_stores = stations_traffic_df.loc[stations_traffic_df['Stores'] != 0]\n",
        "non_zero_stores.head()"
      ],
      "execution_count": 54,
      "outputs": [
        {
          "output_type": "execute_result",
          "data": {
            "text/html": [
              "<div>\n",
              "<style scoped>\n",
              "    .dataframe tbody tr th:only-of-type {\n",
              "        vertical-align: middle;\n",
              "    }\n",
              "\n",
              "    .dataframe tbody tr th {\n",
              "        vertical-align: top;\n",
              "    }\n",
              "\n",
              "    .dataframe thead th {\n",
              "        text-align: right;\n",
              "    }\n",
              "</style>\n",
              "<table border=\"1\" class=\"dataframe\">\n",
              "  <thead>\n",
              "    <tr style=\"text-align: right;\">\n",
              "      <th></th>\n",
              "      <th>Latitude</th>\n",
              "      <th>Longitude</th>\n",
              "      <th>Station</th>\n",
              "      <th>Totals</th>\n",
              "      <th>Stores</th>\n",
              "    </tr>\n",
              "  </thead>\n",
              "  <tbody>\n",
              "    <tr>\n",
              "      <th>0</th>\n",
              "      <td>43.638020</td>\n",
              "      <td>-79.536388</td>\n",
              "      <td>Kipling</td>\n",
              "      <td>52925</td>\n",
              "      <td>1</td>\n",
              "    </tr>\n",
              "    <tr>\n",
              "      <th>1</th>\n",
              "      <td>43.645950</td>\n",
              "      <td>-79.523948</td>\n",
              "      <td>Islington</td>\n",
              "      <td>37412</td>\n",
              "      <td>1</td>\n",
              "    </tr>\n",
              "    <tr>\n",
              "      <th>2</th>\n",
              "      <td>43.648804</td>\n",
              "      <td>-79.511541</td>\n",
              "      <td>Royal York</td>\n",
              "      <td>20229</td>\n",
              "      <td>4</td>\n",
              "    </tr>\n",
              "    <tr>\n",
              "      <th>4</th>\n",
              "      <td>43.650291</td>\n",
              "      <td>-79.484772</td>\n",
              "      <td>Jane</td>\n",
              "      <td>19821</td>\n",
              "      <td>9</td>\n",
              "    </tr>\n",
              "    <tr>\n",
              "      <th>5</th>\n",
              "      <td>43.652167</td>\n",
              "      <td>-79.476499</td>\n",
              "      <td>Runnymede</td>\n",
              "      <td>17035</td>\n",
              "      <td>11</td>\n",
              "    </tr>\n",
              "  </tbody>\n",
              "</table>\n",
              "</div>"
            ],
            "text/plain": [
              "    Latitude  Longitude     Station  Totals  Stores\n",
              "0  43.638020 -79.536388     Kipling   52925       1\n",
              "1  43.645950 -79.523948   Islington   37412       1\n",
              "2  43.648804 -79.511541  Royal York   20229       4\n",
              "4  43.650291 -79.484772        Jane   19821       9\n",
              "5  43.652167 -79.476499   Runnymede   17035      11"
            ]
          },
          "metadata": {
            "tags": []
          },
          "execution_count": 54
        }
      ]
    },
    {
      "metadata": {
        "id": "9g69YsTm16pS",
        "colab_type": "code",
        "colab": {
          "base_uri": "https://localhost:8080/",
          "height": 204
        },
        "outputId": "c8690c14-a2e0-4f59-bedb-1b3aea5e7dd9"
      },
      "cell_type": "code",
      "source": [
        "non_zero_stores['People per Store'] = non_zero_stores['Totals'] / non_zero_stores['Stores']\n",
        "non_zero_stores = non_zero_stores.astype({\"People per Store\": int})\n",
        "non_zero_stores = non_zero_stores.sort_values(by='People per Store', ascending=False).reset_index(drop=True)\n",
        "non_zero_stores.head()"
      ],
      "execution_count": 60,
      "outputs": [
        {
          "output_type": "execute_result",
          "data": {
            "text/html": [
              "<div>\n",
              "<style scoped>\n",
              "    .dataframe tbody tr th:only-of-type {\n",
              "        vertical-align: middle;\n",
              "    }\n",
              "\n",
              "    .dataframe tbody tr th {\n",
              "        vertical-align: top;\n",
              "    }\n",
              "\n",
              "    .dataframe thead th {\n",
              "        text-align: right;\n",
              "    }\n",
              "</style>\n",
              "<table border=\"1\" class=\"dataframe\">\n",
              "  <thead>\n",
              "    <tr style=\"text-align: right;\">\n",
              "      <th></th>\n",
              "      <th>Latitude</th>\n",
              "      <th>Longitude</th>\n",
              "      <th>Station</th>\n",
              "      <th>Totals</th>\n",
              "      <th>Stores</th>\n",
              "      <th>People per Store</th>\n",
              "    </tr>\n",
              "  </thead>\n",
              "  <tbody>\n",
              "    <tr>\n",
              "      <th>0</th>\n",
              "      <td>43.638020</td>\n",
              "      <td>-79.536388</td>\n",
              "      <td>Kipling</td>\n",
              "      <td>52925</td>\n",
              "      <td>1</td>\n",
              "      <td>52925</td>\n",
              "    </tr>\n",
              "    <tr>\n",
              "      <th>1</th>\n",
              "      <td>43.750054</td>\n",
              "      <td>-79.462343</td>\n",
              "      <td>Downsview</td>\n",
              "      <td>37670</td>\n",
              "      <td>1</td>\n",
              "      <td>37670</td>\n",
              "    </tr>\n",
              "    <tr>\n",
              "      <th>2</th>\n",
              "      <td>43.645950</td>\n",
              "      <td>-79.523948</td>\n",
              "      <td>Islington</td>\n",
              "      <td>37412</td>\n",
              "      <td>1</td>\n",
              "      <td>37412</td>\n",
              "    </tr>\n",
              "    <tr>\n",
              "      <th>3</th>\n",
              "      <td>43.781490</td>\n",
              "      <td>-79.415673</td>\n",
              "      <td>Finch</td>\n",
              "      <td>100819</td>\n",
              "      <td>3</td>\n",
              "      <td>33606</td>\n",
              "    </tr>\n",
              "    <tr>\n",
              "      <th>4</th>\n",
              "      <td>43.688917</td>\n",
              "      <td>-79.302729</td>\n",
              "      <td>Main Street</td>\n",
              "      <td>24133</td>\n",
              "      <td>2</td>\n",
              "      <td>12066</td>\n",
              "    </tr>\n",
              "  </tbody>\n",
              "</table>\n",
              "</div>"
            ],
            "text/plain": [
              "    Latitude  Longitude      Station  Totals  Stores  People per Store\n",
              "0  43.638020 -79.536388      Kipling   52925       1             52925\n",
              "1  43.750054 -79.462343    Downsview   37670       1             37670\n",
              "2  43.645950 -79.523948    Islington   37412       1             37412\n",
              "3  43.781490 -79.415673        Finch  100819       3             33606\n",
              "4  43.688917 -79.302729  Main Street   24133       2             12066"
            ]
          },
          "metadata": {
            "tags": []
          },
          "execution_count": 60
        }
      ]
    },
    {
      "metadata": {
        "id": "JOJGzkjz2cbQ",
        "colab_type": "code",
        "colab": {}
      },
      "cell_type": "code",
      "source": [
        ""
      ],
      "execution_count": 0,
      "outputs": []
    },
    {
      "metadata": {
        "id": "E2kQ_QsCm3na",
        "colab_type": "code",
        "outputId": "96d645ff-de42-4115-df68-c78910a5f6b1",
        "colab": {
          "base_uri": "https://localhost:8080/",
          "height": 173
        }
      },
      "cell_type": "code",
      "source": [
        "zero_stores = stations_traffic_df.loc[stations_traffic_df['Stores'] == 0]\n",
        "zero_stores = zero_stores.sort_values(by='Totals', ascending=False).reset_index(drop=True)\n",
        "zero_stores.head()"
      ],
      "execution_count": 59,
      "outputs": [
        {
          "output_type": "execute_result",
          "data": {
            "text/html": [
              "<div>\n",
              "<style scoped>\n",
              "    .dataframe tbody tr th:only-of-type {\n",
              "        vertical-align: middle;\n",
              "    }\n",
              "\n",
              "    .dataframe tbody tr th {\n",
              "        vertical-align: top;\n",
              "    }\n",
              "\n",
              "    .dataframe thead th {\n",
              "        text-align: right;\n",
              "    }\n",
              "</style>\n",
              "<table border=\"1\" class=\"dataframe\">\n",
              "  <thead>\n",
              "    <tr style=\"text-align: right;\">\n",
              "      <th></th>\n",
              "      <th>Latitude</th>\n",
              "      <th>Longitude</th>\n",
              "      <th>Station</th>\n",
              "      <th>Totals</th>\n",
              "      <th>Stores</th>\n",
              "    </tr>\n",
              "  </thead>\n",
              "  <tbody>\n",
              "    <tr>\n",
              "      <th>0</th>\n",
              "      <td>43.712242</td>\n",
              "      <td>-79.278980</td>\n",
              "      <td>Warden</td>\n",
              "      <td>29739</td>\n",
              "      <td>0</td>\n",
              "    </tr>\n",
              "    <tr>\n",
              "      <th>1</th>\n",
              "      <td>43.744996</td>\n",
              "      <td>-79.405331</td>\n",
              "      <td>York Mills</td>\n",
              "      <td>28145</td>\n",
              "      <td>0</td>\n",
              "    </tr>\n",
              "    <tr>\n",
              "      <th>2</th>\n",
              "      <td>43.650576</td>\n",
              "      <td>-79.495225</td>\n",
              "      <td>Old Mill</td>\n",
              "      <td>6624</td>\n",
              "      <td>0</td>\n",
              "    </tr>\n",
              "    <tr>\n",
              "      <th>3</th>\n",
              "      <td>43.709820</td>\n",
              "      <td>-79.441528</td>\n",
              "      <td>Glencairn</td>\n",
              "      <td>5715</td>\n",
              "      <td>0</td>\n",
              "    </tr>\n",
              "  </tbody>\n",
              "</table>\n",
              "</div>"
            ],
            "text/plain": [
              "    Latitude  Longitude     Station  Totals  Stores\n",
              "0  43.712242 -79.278980      Warden   29739       0\n",
              "1  43.744996 -79.405331  York Mills   28145       0\n",
              "2  43.650576 -79.495225    Old Mill    6624       0\n",
              "3  43.709820 -79.441528   Glencairn    5715       0"
            ]
          },
          "metadata": {
            "tags": []
          },
          "execution_count": 59
        }
      ]
    },
    {
      "metadata": {
        "id": "Od1UbtO1eqAD",
        "colab_type": "code",
        "colab": {}
      },
      "cell_type": "code",
      "source": [
        "stations_traffic_df.loc[stations_traffic_df['Station'] == 'Eglinton']"
      ],
      "execution_count": 0,
      "outputs": []
    },
    {
      "metadata": {
        "id": "0PUsRTLNVb2n",
        "colab_type": "code",
        "colab": {}
      },
      "cell_type": "code",
      "source": [
        ""
      ],
      "execution_count": 0,
      "outputs": []
    }
  ]
}