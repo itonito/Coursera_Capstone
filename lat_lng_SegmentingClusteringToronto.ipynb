{
  "nbformat": 4,
  "nbformat_minor": 0,
  "metadata": {
    "colab": {
      "name": "lat_lng_SegmentingClusteringToronto.ipynb",
      "version": "0.3.2",
      "provenance": [],
      "collapsed_sections": [],
      "include_colab_link": true
    },
    "kernelspec": {
      "name": "python3",
      "display_name": "Python 3"
    }
  },
  "cells": [
    {
      "cell_type": "markdown",
      "metadata": {
        "id": "view-in-github",
        "colab_type": "text"
      },
      "source": [
        "<a href=\"https://colab.research.google.com/github/itonito/Coursera_Capstone/blob/master/lat_lng_SegmentingClusteringToronto.ipynb\" target=\"_parent\"><img src=\"https://colab.research.google.com/assets/colab-badge.svg\" alt=\"Open In Colab\"/></a>"
      ]
    },
    {
      "metadata": {
        "id": "iywQ2sfRSzDY",
        "colab_type": "code",
        "colab": {}
      },
      "cell_type": "code",
      "source": [
        "import pandas as pd\n",
        "import numpy as np\n",
        "\n",
        "from urllib import request\n",
        "from bs4 import BeautifulSoup"
      ],
      "execution_count": 0,
      "outputs": []
    },
    {
      "metadata": {
        "id": "LSLxJ7U0TLPd",
        "colab_type": "code",
        "colab": {}
      },
      "cell_type": "code",
      "source": [
        "def scraping():\n",
        "    #url\n",
        "    url = \"https://en.wikipedia.org/wiki/List_of_postal_codes_of_Canada:_M\"\n",
        "\n",
        "    #get html\n",
        "    html = request.urlopen(url)\n",
        "\n",
        "    #set BueatifulSoup\n",
        "    soup = BeautifulSoup(html, \"html.parser\")\n",
        "\n",
        "    #get Table    \n",
        "    table = soup.find_all('table')[0] \n",
        "    df = pd.read_html(str(table))\n",
        "\n",
        "    return df[0]\n"
      ],
      "execution_count": 0,
      "outputs": []
    },
    {
      "metadata": {
        "id": "JwUmKtojT3Lc",
        "colab_type": "code",
        "colab": {}
      },
      "cell_type": "code",
      "source": [
        "my_df = scraping()\n",
        "new_header = my_df.iloc[0] \n",
        "my_df = my_df[1:] \n",
        "my_df.columns = new_header\n",
        "my_df = my_df.replace('Not assigned',np.NaN)\n",
        "my_df = my_df.dropna(subset=['Borough'])\n",
        "my_df = my_df.reset_index(drop=True)"
      ],
      "execution_count": 0,
      "outputs": []
    },
    {
      "metadata": {
        "id": "McJSBFYAZFEQ",
        "colab_type": "code",
        "colab": {}
      },
      "cell_type": "code",
      "source": [
        "for i, row in my_df.iterrows():\n",
        "    if pd.isnull(my_df.at[i,'Neighbourhood']):\n",
        "        my_df.at[i,'Neighbourhood'] = my_df.at[i,'Borough']"
      ],
      "execution_count": 0,
      "outputs": []
    },
    {
      "metadata": {
        "id": "nEaGR1TzQJP3",
        "colab_type": "code",
        "colab": {}
      },
      "cell_type": "code",
      "source": [
        "my_df = my_df.groupby(['Postcode','Borough'],as_index=False).agg({'Neighbourhood':', '.join})"
      ],
      "execution_count": 0,
      "outputs": []
    },
    {
      "metadata": {
        "id": "qs9ihgxP6iEy",
        "colab_type": "code",
        "colab": {}
      },
      "cell_type": "code",
      "source": [
        "ll_df = pd.read_csv('http://cocl.us/Geospatial_data')\n"
      ],
      "execution_count": 0,
      "outputs": []
    },
    {
      "metadata": {
        "id": "ln7TIvoI-G0Q",
        "colab_type": "code",
        "colab": {}
      },
      "cell_type": "code",
      "source": [
        "new_df = pd.merge(my_df,ll_df, left_on='Postcode', right_on='Postal Code').drop('Postal Code',axis=1)"
      ],
      "execution_count": 0,
      "outputs": []
    }
  ]
}